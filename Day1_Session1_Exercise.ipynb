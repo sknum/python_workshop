{
  "nbformat": 4,
  "nbformat_minor": 0,
  "metadata": {
    "colab": {
      "name": "Day1_Session1_Exercise.ipynb",
      "provenance": [],
      "authorship_tag": "ABX9TyMhdZSVHl2jOVchJFCWWt6E",
      "include_colab_link": true
    },
    "kernelspec": {
      "name": "python3",
      "display_name": "Python 3"
    }
  },
  "cells": [
    {
      "cell_type": "markdown",
      "metadata": {
        "id": "view-in-github",
        "colab_type": "text"
      },
      "source": [
        "<a href=\"https://colab.research.google.com/github/sknum/python_workshop/blob/master/Day1_Session1_Exercise.ipynb\" target=\"_parent\"><img src=\"https://colab.research.google.com/assets/colab-badge.svg\" alt=\"Open In Colab\"/></a>"
      ]
    },
    {
      "cell_type": "markdown",
      "metadata": {
        "id": "wHD5mjClDymY",
        "colab_type": "text"
      },
      "source": [
        "Find the compound interest for the given p,n,r (formula : p(1+n*r/100)n )"
      ]
    },
    {
      "cell_type": "code",
      "metadata": {
        "id": "5XAdRXzUD6LP",
        "colab_type": "code",
        "colab": {
          "base_uri": "https://localhost:8080/",
          "height": 85
        },
        "outputId": "50d6b9e7-9e1e-4f1d-a1a0-a54d65a4c94e"
      },
      "source": [
        "p=float(input(\"Enter the principal amount\"))\n",
        "n=float(input(\"Enter the value of n time period\"))\n",
        "r=float(input(\"Enter the value of r\"))\n",
        "ci=p*(pow((1+r/100),n))\n",
        "print(\"The compound intrest is\",ci)"
      ],
      "execution_count": 1,
      "outputs": [
        {
          "output_type": "stream",
          "text": [
            "Enter the principal amount1200\n",
            "Enter the value of n time period5\n",
            "Enter the value of r7.6\n",
            "The compound intrest is 1730.7829276864518\n"
          ],
          "name": "stdout"
        }
      ]
    },
    {
      "cell_type": "markdown",
      "metadata": {
        "id": "2dE0IIlGGArS",
        "colab_type": "text"
      },
      "source": [
        "Convert centegrade to farenheit ( f= 9/5*c+32)"
      ]
    },
    {
      "cell_type": "code",
      "metadata": {
        "id": "ZegRJi1IGCRI",
        "colab_type": "code",
        "colab": {
          "base_uri": "https://localhost:8080/",
          "height": 51
        },
        "outputId": "1b4dceb8-5993-46f7-e80e-1d4c8b8e445c"
      },
      "source": [
        "c=float(input(\"Enter the temperature in centegrade\"))\n",
        "f=((9/5*c)+32)\n",
        "print(\"The fahrenheit value is {0}°F\".format(f))"
      ],
      "execution_count": 2,
      "outputs": [
        {
          "output_type": "stream",
          "text": [
            "Enter the temperature in centegrade100\n",
            "The fahrenheit value is 212.0°F\n"
          ],
          "name": "stdout"
        }
      ]
    },
    {
      "cell_type": "markdown",
      "metadata": {
        "id": "GRpxnb1fGbnw",
        "colab_type": "text"
      },
      "source": [
        "\n",
        "Find the greater of two nos\n"
      ]
    },
    {
      "cell_type": "code",
      "metadata": {
        "id": "ggIviUNkGnfg",
        "colab_type": "code",
        "colab": {
          "base_uri": "https://localhost:8080/",
          "height": 68
        },
        "outputId": "1421daea-693a-489a-daa3-4fec68096ea5"
      },
      "source": [
        "a=float(input(\"Enter the value of a\"))\n",
        "b=float(input(\"Enter the value of b\"))\n",
        "if(a>b):\n",
        "  print(\"a is greater\")\n",
        "else:\n",
        "  print(\"b is greater\")"
      ],
      "execution_count": 3,
      "outputs": [
        {
          "output_type": "stream",
          "text": [
            "Enter the value of a10\n",
            "Enter the value of b15\n",
            "b is greater\n"
          ],
          "name": "stdout"
        }
      ]
    },
    {
      "cell_type": "code",
      "metadata": {
        "id": "lIvN4qfaG3tF",
        "colab_type": "code",
        "colab": {}
      },
      "source": [
        "Write a program for finding surface areas of cylinder and cone (2PIrrh, 1/3PIrrh) using function"
      ],
      "execution_count": null,
      "outputs": []
    },
    {
      "cell_type": "code",
      "metadata": {
        "id": "F1SQwxGyG9Xd",
        "colab_type": "code",
        "colab": {
          "base_uri": "https://localhost:8080/",
          "height": 119
        },
        "outputId": "312fb656-1b39-4450-a210-9ca46a9a999d"
      },
      "source": [
        "r1=float(input(\"Enter the radius of the cylinder\"))\n",
        "h1=float(input(\"Enter the height of the cylinder\"))\n",
        "pi=22/7\n",
        "sa=(2*pi*r1*h1)+(2*pi*r1*r1)\n",
        "print(\"The suraface area of the cylinder is\",sa)\n",
        "r2=float(input(\"Enter the radius of cone\"))\n",
        "h2=float(input(\"Enter the height of cone\"))\n",
        "sa1=(1/3*pi*r2*r2*h2)\n",
        "print(\"The surface area of the cone is\",sa1)"
      ],
      "execution_count": 4,
      "outputs": [
        {
          "output_type": "stream",
          "text": [
            "Enter the radius of the cylinder5\n",
            "Enter the height of the cylinder7\n",
            "The suraface area of the cylinder is 377.1428571428571\n",
            "Enter the radius of cone4\n",
            "Enter the height of cone6\n",
            "The surface area of the cone is 100.57142857142856\n"
          ],
          "name": "stdout"
        }
      ]
    },
    {
      "cell_type": "markdown",
      "metadata": {
        "id": "9dif7EjlHvKF",
        "colab_type": "text"
      },
      "source": [
        "Find the greatest of four nos ( using ‘and’ operator) using function.\n"
      ]
    },
    {
      "cell_type": "code",
      "metadata": {
        "id": "VGj7ile_H0Kr",
        "colab_type": "code",
        "colab": {
          "base_uri": "https://localhost:8080/",
          "height": 102
        },
        "outputId": "977325d8-df09-4626-b55e-010ff5e51fa5"
      },
      "source": [
        "a=int(input(\"Enter the value of a\"))\n",
        "b=int(input(\"Enter the value of b\"))\n",
        "c=int(input(\"Enter the value of c\"))\n",
        "d=int(input(\"Enter the value of d\"))\n",
        "if((a>b) and (a>c) and (a>c)):\n",
        "  print(\"a is greater\")\n",
        "elif((b>a)and (b>c) and (b>d)):\n",
        "  print(\"b is greater\")\n",
        "elif((c>a)and (c>b) and (c>d)):\n",
        "  print(\"c is greater\")\n",
        "else:\n",
        "  print(\"d is greater\")"
      ],
      "execution_count": 5,
      "outputs": [
        {
          "output_type": "stream",
          "text": [
            "Enter the value of a10\n",
            "Enter the value of b20\n",
            "Enter the value of c30\n",
            "Enter the value of d40\n",
            "d is greater\n"
          ],
          "name": "stdout"
        }
      ]
    },
    {
      "cell_type": "markdown",
      "metadata": {
        "id": "AtyuG0rcJaNx",
        "colab_type": "text"
      },
      "source": [
        "Write a menu program to perform the operations ( ODDorEven, Factorial, ODDNoUptoN, PrimeUptoN ) using functions for two nos with menu choice\n"
      ]
    },
    {
      "cell_type": "code",
      "metadata": {
        "id": "jv5ay0YsJbwS",
        "colab_type": "code",
        "colab": {
          "base_uri": "https://localhost:8080/",
          "height": 1000
        },
        "outputId": "cea1f7ba-9618-4f8d-e79f-a24a60c7e0c0"
      },
      "source": [
        "loop=1\n",
        "choice=0\n",
        "def OddOrEven(n):\n",
        "  if(n%2==0):\n",
        "      print(\"Even\")\n",
        "  else:\n",
        "      print(\"Odd\")\n",
        "\n",
        "def Factorial(n):\n",
        "  fact=1\n",
        "  while(n>0):\n",
        "    fact=fact*n\n",
        "    n=n-1\n",
        "  print(\"Factorial of the number is: \")\n",
        "  print(fact)\n",
        "\n",
        "def oddno(n):\n",
        "  for i in range(1,n):\n",
        "    if(i%2!=0):\n",
        "      print(i)\n",
        "\n",
        "def prime(n):\n",
        "    for num1 in range(1, n + 1):\n",
        "      if num1 > 1:\n",
        "       for i in range(2, num1):\n",
        "           if (num1 % i) == 0:\n",
        "               break\n",
        "       else:\n",
        "           print(num1)\n",
        "    \n",
        "while loop == 1:\n",
        "    print (\"your options are:\")\n",
        "    print (\" \")\n",
        "    print(\"1) ODD or EVEN\")\n",
        "    print(\"2) Factorial\")\n",
        "    print(\"3) Odd number\")\n",
        "    print(\"4) Prime number\")\n",
        "    print(\" \")\n",
        "    try:\n",
        "        choice = int(input(\"Choose your option: \"))\n",
        "    except:\n",
        "        print(\"please enter a valid number for option\")\n",
        "    print(\" \")\n",
        "    print(\" \")\n",
        "    if choice == 1:\n",
        "        n = int(input(\"Enter the  no: \"))\n",
        "        OddOrEven(n)\n",
        "    elif choice == 2:\n",
        "       n = int(input(\"Enter the  no: \"))\n",
        "       Factorial(n)\n",
        "    elif choice == 3:\n",
        "        n = int(input(\"Enter the  no: \"))\n",
        "        oddno(n)\n",
        "    elif choice == 4:\n",
        "        n = int(input(\"Enter the  no: \"))\n",
        "        prime(n)\n",
        "    else:\n",
        "        print(\"please choice a valid option from 1 to 4\")\n",
        "        choice=0"
      ],
      "execution_count": null,
      "outputs": [
        {
          "output_type": "stream",
          "text": [
            "your options are:\n",
            " \n",
            "1) ODD or EVEN\n",
            "2) Factorial\n",
            "3) Odd number\n",
            "4) Prime number\n",
            " \n",
            "Choose your option: 1\n",
            " \n",
            " \n",
            "Enter the  no: 1\n",
            "Odd\n",
            "your options are:\n",
            " \n",
            "1) ODD or EVEN\n",
            "2) Factorial\n",
            "3) Odd number\n",
            "4) Prime number\n",
            " \n",
            "Choose your option: 2\n",
            " \n",
            " \n",
            "Enter the  no: 5\n",
            "Factorial of the number is: \n",
            "120\n",
            "your options are:\n",
            " \n",
            "1) ODD or EVEN\n",
            "2) Factorial\n",
            "3) Odd number\n",
            "4) Prime number\n",
            " \n",
            "Choose your option: 3\n",
            " \n",
            " \n",
            "Enter the  no: 7\n",
            "1\n",
            "3\n",
            "5\n",
            "your options are:\n",
            " \n",
            "1) ODD or EVEN\n",
            "2) Factorial\n",
            "3) Odd number\n",
            "4) Prime number\n",
            " \n",
            "Choose your option: 6\n",
            " \n",
            " \n",
            "please choice a valid option from 1 to 4\n",
            "your options are:\n",
            " \n",
            "1) ODD or EVEN\n",
            "2) Factorial\n",
            "3) Odd number\n",
            "4) Prime number\n",
            " \n",
            "Choose your option: 4\n",
            " \n",
            " \n",
            "Enter the  no: 6\n",
            "2\n",
            "3\n",
            "5\n",
            "your options are:\n",
            " \n",
            "1) ODD or EVEN\n",
            "2) Factorial\n",
            "3) Odd number\n",
            "4) Prime number\n",
            " \n",
            "Choose your option: 0\n",
            " \n",
            " \n",
            "please choice a valid option from 1 to 4\n",
            "your options are:\n",
            " \n",
            "1) ODD or EVEN\n",
            "2) Factorial\n",
            "3) Odd number\n",
            "4) Prime number\n",
            " \n"
          ],
          "name": "stdout"
        }
      ]
    }
  ]
}